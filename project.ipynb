{
 "cells": [
  {
   "cell_type": "code",
   "execution_count": 1,
   "metadata": {},
   "outputs": [],
   "source": [
    "import re\n",
    "import requests\n",
    "from dotenv import load_dotenv\n",
    "import os\n",
    "load_dotenv()\n",
    "import json"
   ]
  },
  {
   "cell_type": "code",
   "execution_count": 2,
   "metadata": {},
   "outputs": [],
   "source": [
    "#Para sacar la info de las 2 APIs\n",
    "def get_comment(comment,apiKey=os.getenv(\"Apitoken\")):\n",
    "    headers = {\"Authorization\": f\"Bearer {apiKey}\"}\n",
    "    res=requests.get(f'https://api.github.com/repos/ironhack-datalabs/datamad0820/issues/{comment}/comments', headers=headers)\n",
    "    coments=res.json()\n",
    "    return coments\n"
   ]
  },
  {
   "cell_type": "code",
   "execution_count": 3,
   "metadata": {},
   "outputs": [],
   "source": [
    "#funciones\n",
    "   \n",
    "def find_compi(comment):#busqueda del compañero con @\n",
    "    try:\n",
    "        return re.findall('@\\w*-?w+', comment[0][\"body\"])\n",
    "    except:\n",
    "        return None\n",
    "\n",
    "def find_instructor(comment):#Para sacar el nombre del instructor\n",
    "    try:\n",
    "        return comment[0]['user']['login']\n",
    "    except:\n",
    "        return None\n",
    "\n",
    "def find_meme(comment):#Para sacar el meme\n",
    "    try:#hay unos sin imagenes \n",
    "        try:\n",
    "            z = re.findall(r'https:.*jpg|.*png|.*jpeg',comment[0]['body'])\n",
    "            z = str(z).split('(')\n",
    "            z = z[1].split(\"'\")\n",
    "            return z[0]\n",
    "        except: \n",
    "            z = re.findall(r'https:.*jpg|.*png|.*jpeg',comment[0]['body'])\n",
    "            z = str(z).split('(')\n",
    "            return z[0]\n",
    "    except:\n",
    "        return None    "
   ]
  },
  {
   "cell_type": "code",
   "execution_count": 5,
   "metadata": {},
   "outputs": [],
   "source": [
    "#Busqueda de info en Pull y union de las apis\n",
    "\n",
    "def get_pull(x,apiKey=os.getenv(\"Apitoken\")):\n",
    "    headers = {\"Authorization\": f\"Bearer{apiKey}\"}\n",
    "    res = requests.get(f\"https://api.github.com/repos/ironhack-datalabs/datamad0820/pulls/{x}\", headers=headers)\n",
    "    data = res.json()\n",
    "    coments = get_comment(x)\n",
    "    try:  \n",
    "        return {\n",
    "            \"Id\":data[\"number\"],\n",
    "            \"Estado\":data[\"state\"],\n",
    "            \"Title\":data[\"title\"],\n",
    "            \"Usuario\":data[\"user\"][\"login\"],\n",
    "            \"Usuario_2\":find_compi(coments),\n",
    "            \"Apertura\":data[\"created_at\"],\n",
    "            \"Cerrado\":data[\"closed_at\"],\n",
    "            \"Instructores\":find_instructor(coments),\n",
    "            \"Meme\":find_meme(coments) }\n",
    "    except:\n",
    "        return {\"ERROR\":None}\n",
    "  "
   ]
  },
  {
   "cell_type": "code",
   "execution_count": 6,
   "metadata": {},
   "outputs": [],
   "source": [
    "data=[get_pull(i) for i in range(1,500)]"
   ]
  },
  {
   "cell_type": "code",
   "execution_count": null,
   "metadata": {},
   "outputs": [],
   "source": [
    "data\n",
    "    "
   ]
  },
  {
   "cell_type": "code",
   "execution_count": null,
   "metadata": {},
   "outputs": [],
   "source": []
  }
 ],
 "metadata": {
  "kernelspec": {
   "display_name": "Python 3",
   "language": "python",
   "name": "python3"
  },
  "language_info": {
   "codemirror_mode": {
    "name": "ipython",
    "version": 3
   },
   "file_extension": ".py",
   "mimetype": "text/x-python",
   "name": "python",
   "nbconvert_exporter": "python",
   "pygments_lexer": "ipython3",
   "version": "3.6.9"
  }
 },
 "nbformat": 4,
 "nbformat_minor": 4
}
